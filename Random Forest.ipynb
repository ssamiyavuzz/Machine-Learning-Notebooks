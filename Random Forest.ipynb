{
 "cells": [
  {
   "cell_type": "markdown",
   "id": "e1096d1b",
   "metadata": {},
   "source": [
    "# Random Forest"
   ]
  },
  {
   "cell_type": "markdown",
   "id": "b6e707e6",
   "metadata": {},
   "source": [
    "## Random Forest Nedir ?"
   ]
  },
  {
   "cell_type": "markdown",
   "id": "00b82e57",
   "metadata": {},
   "source": [
    "- Random Forest, birden fazla karar ağacının bir araya gelerek oluşturduğu bir **ensemble learning yöntemidir**. Her bir karar ağacı, veri setinden rastgele seçilen alt kümeler üzerinde eğitilir ve her düğümde kullanılan feature'lar da rastgele seçilir. Bu işlem, modelin hem çeşitliliğini artırır hem de overfitting riskini azaltır. \n",
    "\n",
    "- Sonuçta, tüm ağaçların tahminleri bir araya getirilir ve nihai tahmin bu şekilde oluşturulur. Random Forest, hem classification hem de regresyon problemlerinde yüksek doğruluk sağlama potansiyeline sahiptir ve önemli feature'ları belirleme konusunda içgörüler sunar."
   ]
  },
  {
   "cell_type": "markdown",
   "id": "ebc0890a",
   "metadata": {},
   "source": [
    "### Ensemble Methods"
   ]
  },
  {
   "cell_type": "markdown",
   "id": "45f07db8",
   "metadata": {},
   "source": [
    "- **Bagging (Bootstrap Aggregating):** Random Forest, bagging tekniğinin bir örneğidir. Bagging, birden fazla modeli (bu durumda karar ağaçlarını) paralel olarak eğitmeyi ve bu modellerin tahminlerini birleştirerek kararlar verir. Her model, orijinal veri setinden rastgele seçilmiş örneklerle (bootstrap örnekleri) eğitilir. Modelin tahminleri, çoğunluk oyu (sınıflandırma için) veya ortalama alma (regresyon için) yoluyla birleştirilir.\n",
    "\n",
    "--------------------------------------------------------------------------------------------------------------------------------\n",
    "\n",
    "- **Boosting:** Her yeni model, önceki modellerin hatalarını düzeltmeye odaklanır. Boosting yöntemlerinde, modeller arasında bir tür bağımlılık ve sıralama vardır; yani her model, bir öncekinin performansına dayanarak eğitilir."
   ]
  },
  {
   "cell_type": "markdown",
   "id": "6de124cc",
   "metadata": {},
   "source": [
    "## Çalışma Prensibi"
   ]
  },
  {
   "cell_type": "markdown",
   "id": "16859912",
   "metadata": {},
   "source": [
    "- 1- Bootstrapping: Veri setinden rastgele alt kümeler (bootstrap örnekleri) oluşturur.\n",
    "- 2- "
   ]
  },
  {
   "cell_type": "code",
   "execution_count": null,
   "id": "d86caaaa",
   "metadata": {},
   "outputs": [],
   "source": []
  },
  {
   "cell_type": "code",
   "execution_count": null,
   "id": "9be30bb3",
   "metadata": {},
   "outputs": [],
   "source": []
  },
  {
   "cell_type": "code",
   "execution_count": null,
   "id": "cd013e9e",
   "metadata": {},
   "outputs": [],
   "source": []
  },
  {
   "cell_type": "code",
   "execution_count": null,
   "id": "e0f29bbb",
   "metadata": {},
   "outputs": [],
   "source": []
  }
 ],
 "metadata": {
  "kernelspec": {
   "display_name": "Python 3 (ipykernel)",
   "language": "python",
   "name": "python3"
  },
  "language_info": {
   "codemirror_mode": {
    "name": "ipython",
    "version": 3
   },
   "file_extension": ".py",
   "mimetype": "text/x-python",
   "name": "python",
   "nbconvert_exporter": "python",
   "pygments_lexer": "ipython3",
   "version": "3.11.5"
  }
 },
 "nbformat": 4,
 "nbformat_minor": 5
}
