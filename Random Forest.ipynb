{
 "cells": [
  {
   "cell_type": "markdown",
   "id": "bf3651e4",
   "metadata": {},
   "source": [
    "# Random Forest"
   ]
  },
  {
   "cell_type": "markdown",
   "id": "66a93fb5",
   "metadata": {},
   "source": [
    "## Random Forest Nedir ?"
   ]
  },
  {
   "cell_type": "markdown",
   "id": "ccc47816",
   "metadata": {},
   "source": [
    "Random Forest, birden fazla karar ağacının bir araya gelerek oluşturduğu bir ensemble learning yöntemidir. Her bir karar ağacı, veri setinden rastgele seçilen alt kümeler üzerinde eğitilir ve her düğümde kullanılan özellikler de rastgele seçilir. Bu işlem, modelin hem çeşitliliğini artırır hem de overfitting riskini azaltır. \n",
    "\n",
    "**Özetle**"
   ]
  },
  {
   "cell_type": "code",
   "execution_count": null,
   "id": "a5363559",
   "metadata": {},
   "outputs": [],
   "source": []
  },
  {
   "cell_type": "code",
   "execution_count": null,
   "id": "35ced288",
   "metadata": {},
   "outputs": [],
   "source": []
  },
  {
   "cell_type": "code",
   "execution_count": null,
   "id": "2dd2a470",
   "metadata": {},
   "outputs": [],
   "source": []
  },
  {
   "cell_type": "code",
   "execution_count": null,
   "id": "d6770bfa",
   "metadata": {},
   "outputs": [],
   "source": []
  }
 ],
 "metadata": {
  "kernelspec": {
   "display_name": "Python 3 (ipykernel)",
   "language": "python",
   "name": "python3"
  },
  "language_info": {
   "codemirror_mode": {
    "name": "ipython",
    "version": 3
   },
   "file_extension": ".py",
   "mimetype": "text/x-python",
   "name": "python",
   "nbconvert_exporter": "python",
   "pygments_lexer": "ipython3",
   "version": "3.11.5"
  }
 },
 "nbformat": 4,
 "nbformat_minor": 5
}
