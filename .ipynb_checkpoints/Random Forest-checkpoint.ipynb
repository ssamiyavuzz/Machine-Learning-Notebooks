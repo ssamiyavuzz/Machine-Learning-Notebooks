{
 "cells": [
  {
   "cell_type": "markdown",
   "id": "7b2435a2",
   "metadata": {},
   "source": [
    "# Random Forest"
   ]
  },
  {
   "cell_type": "markdown",
   "id": "2ed26948",
   "metadata": {},
   "source": [
    "## Random Forest Nedir ?"
   ]
  },
  {
   "cell_type": "markdown",
   "id": "8acd46f1",
   "metadata": {},
   "source": [
    "- Random Forest, birden fazla karar ağacının bir araya gelerek oluşturduğu bir **ensemble learning yöntemidir**. Her bir karar ağacı, veri setinden rastgele seçilen alt kümeler üzerinde eğitilir ve her düğümde kullanılan feature'lar da rastgele seçilir. Bu işlem, modelin hem çeşitliliğini artırır hem de overfitting riskini azaltır. \n",
    "\n",
    "- Sonuçta, tüm ağaçların tahminleri bir araya getirilir ve nihai tahmin bu şekilde oluşturulur. Random Forest, hem classification hem de regresyon problemlerinde yüksek doğruluk sağlama potansiyeline sahiptir ve önemli feature'ları belirleme konusunda içgörüler sunar."
   ]
  },
  {
   "cell_type": "markdown",
   "id": "2db3fa0b",
   "metadata": {},
   "source": [
    "### Ensemble Methods"
   ]
  },
  {
   "cell_type": "markdown",
   "id": "59b4c205",
   "metadata": {},
   "source": [
    "- **Bagging (Bootstrap Aggregating):** Random Forest, bagging tekniğinin bir örneğidir. Bagging, birden fazla modeli (bu durumda karar ağaçlarını) paralel olarak eğitmeyi ve bu modellerin tahminlerini birleştirerek kararlar verir. Her model, orijinal veri setinden rastgele seçilmiş örneklerle (bootstrap örnekleri) eğitilir. Modelin tahminleri, çoğunluk oyu (sınıflandırma için) veya ortalama alma (regresyon için) yoluyla birleştirilir.\n",
    "\n",
    "--------------------------------------------------------------------------------------------------------------------------------\n",
    "\n",
    "- **Boosting:** Her yeni model, önceki modellerin hatalarını düzeltmeye odaklanır. Boosting yöntemlerinde, modeller arasında bir tür bağımlılık ve sıralama vardır; yani her model, bir öncekinin performansına dayanarak eğitilir."
   ]
  },
  {
   "cell_type": "markdown",
   "id": "166667a1",
   "metadata": {},
   "source": [
    "## Çalışma Prensibi"
   ]
  },
  {
   "cell_type": "code",
   "execution_count": null,
   "id": "d0c0501c",
   "metadata": {},
   "outputs": [],
   "source": []
  },
  {
   "cell_type": "code",
   "execution_count": null,
   "id": "cd04b4f0",
   "metadata": {},
   "outputs": [],
   "source": []
  },
  {
   "cell_type": "code",
   "execution_count": null,
   "id": "d604e56b",
   "metadata": {},
   "outputs": [],
   "source": []
  },
  {
   "cell_type": "code",
   "execution_count": null,
   "id": "8ed3e81b",
   "metadata": {},
   "outputs": [],
   "source": []
  },
  {
   "cell_type": "code",
   "execution_count": null,
   "id": "417b114e",
   "metadata": {},
   "outputs": [],
   "source": []
  }
 ],
 "metadata": {
  "kernelspec": {
   "display_name": "Python 3 (ipykernel)",
   "language": "python",
   "name": "python3"
  },
  "language_info": {
   "codemirror_mode": {
    "name": "ipython",
    "version": 3
   },
   "file_extension": ".py",
   "mimetype": "text/x-python",
   "name": "python",
   "nbconvert_exporter": "python",
   "pygments_lexer": "ipython3",
   "version": "3.11.5"
  }
 },
 "nbformat": 4,
 "nbformat_minor": 5
}
