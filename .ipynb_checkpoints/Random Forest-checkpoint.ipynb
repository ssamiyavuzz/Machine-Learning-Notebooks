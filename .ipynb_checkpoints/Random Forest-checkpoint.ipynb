{
 "cells": [
  {
   "cell_type": "markdown",
   "id": "378e703b",
   "metadata": {},
   "source": [
    "# Random Forest"
   ]
  },
  {
   "cell_type": "markdown",
   "id": "ce9332f7",
   "metadata": {},
   "source": [
    "## Random Forest Nedir ?"
   ]
  },
  {
   "cell_type": "markdown",
   "id": "b88f2322",
   "metadata": {},
   "source": [
    "- Random Forest, birden fazla karar ağacının bir araya gelerek oluşturduğu bir **ensemble learning yöntemidir**. Her bir karar ağacı, veri setinden rastgele seçilen alt kümeler üzerinde eğitilir ve her düğümde kullanılan feature'lar da rastgele seçilir. Bu işlem, modelin hem çeşitliliğini artırır hem de overfitting riskini azaltır. \n",
    "\n",
    "- Sonuçta, tüm ağaçların tahminleri bir araya getirilir ve nihai tahmin bu şekilde oluşturulur. Random Forest, hem classification hem de regresyon problemlerinde yüksek doğruluk sağlama potansiyeline sahiptir ve önemli feature'ları belirleme konusunda içgörüler sunar."
   ]
  },
  {
   "cell_type": "markdown",
   "id": "2c8b95d7",
   "metadata": {},
   "source": [
    "### Ensemble Methods"
   ]
  },
  {
   "cell_type": "markdown",
   "id": "0ec0c923",
   "metadata": {},
   "source": [
    "- **Bagging (Bootstrap Aggregating):** Random Forest, bagging tekniğinin bir örneğidir. Bagging, birden fazla modeli (bu durumda karar ağaçlarını) paralel olarak eğitmeyi ve bu modellerin tahminlerini birleştirerek kararlar verir. Her model, orijinal veri setinden rastgele seçilmiş örneklerle (bootstrap örnekleri) eğitilir. Modelin tahminleri, çoğunluk oyu (sınıflandırma için) veya ortalama alma (regresyon için) yoluyla birleştirilir."
   ]
  },
  {
   "cell_type": "code",
   "execution_count": null,
   "id": "32c7faf6",
   "metadata": {},
   "outputs": [],
   "source": []
  },
  {
   "cell_type": "code",
   "execution_count": null,
   "id": "6583fe35",
   "metadata": {},
   "outputs": [],
   "source": []
  },
  {
   "cell_type": "code",
   "execution_count": null,
   "id": "05115dbf",
   "metadata": {},
   "outputs": [],
   "source": []
  },
  {
   "cell_type": "code",
   "execution_count": null,
   "id": "f1f79563",
   "metadata": {},
   "outputs": [],
   "source": []
  },
  {
   "cell_type": "code",
   "execution_count": null,
   "id": "0bfabc24",
   "metadata": {},
   "outputs": [],
   "source": []
  },
  {
   "cell_type": "code",
   "execution_count": null,
   "id": "e1d49286",
   "metadata": {},
   "outputs": [],
   "source": []
  }
 ],
 "metadata": {
  "kernelspec": {
   "display_name": "Python 3 (ipykernel)",
   "language": "python",
   "name": "python3"
  },
  "language_info": {
   "codemirror_mode": {
    "name": "ipython",
    "version": 3
   },
   "file_extension": ".py",
   "mimetype": "text/x-python",
   "name": "python",
   "nbconvert_exporter": "python",
   "pygments_lexer": "ipython3",
   "version": "3.11.5"
  }
 },
 "nbformat": 4,
 "nbformat_minor": 5
}
