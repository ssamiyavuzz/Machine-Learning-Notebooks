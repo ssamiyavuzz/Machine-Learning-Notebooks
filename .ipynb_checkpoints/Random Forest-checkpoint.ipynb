{
 "cells": [
  {
   "cell_type": "markdown",
   "id": "48b5333a",
   "metadata": {},
   "source": [
    "# Random Forest"
   ]
  },
  {
   "cell_type": "markdown",
   "id": "c2a2c57c",
   "metadata": {},
   "source": [
    "## Random Forest Nedir ?"
   ]
  },
  {
   "cell_type": "markdown",
   "id": "2d097b4c",
   "metadata": {},
   "source": [
    "- Random Forest, birden fazla karar ağacının bir araya gelerek oluşturduğu bir **ensemble learning yöntemidir**. Her bir karar ağacı, veri setinden rastgele seçilen alt kümeler üzerinde eğitilir ve her düğümde kullanılan feature'lar da rastgele seçilir. Bu işlem, modelin hem çeşitliliğini artırır hem de overfitting riskini azaltır. \n",
    "\n",
    "- Sonuçta, tüm ağaçların tahminleri bir araya getirilir ve nihai tahmin bu şekilde oluşturulur. Random Forest, hem classification hem de regresyon problemlerinde yüksek doğruluk sağlama potansiyeline sahiptir ve önemli feature'ları belirleme konusunda içgörüler sunar."
   ]
  },
  {
   "cell_type": "code",
   "execution_count": null,
   "id": "84f6033f",
   "metadata": {},
   "outputs": [],
   "source": []
  },
  {
   "cell_type": "code",
   "execution_count": null,
   "id": "55052b46",
   "metadata": {},
   "outputs": [],
   "source": []
  },
  {
   "cell_type": "code",
   "execution_count": null,
   "id": "bcee9e84",
   "metadata": {},
   "outputs": [],
   "source": []
  },
  {
   "cell_type": "code",
   "execution_count": null,
   "id": "e908ad36",
   "metadata": {},
   "outputs": [],
   "source": []
  }
 ],
 "metadata": {
  "kernelspec": {
   "display_name": "Python 3 (ipykernel)",
   "language": "python",
   "name": "python3"
  },
  "language_info": {
   "codemirror_mode": {
    "name": "ipython",
    "version": 3
   },
   "file_extension": ".py",
   "mimetype": "text/x-python",
   "name": "python",
   "nbconvert_exporter": "python",
   "pygments_lexer": "ipython3",
   "version": "3.11.5"
  }
 },
 "nbformat": 4,
 "nbformat_minor": 5
}
