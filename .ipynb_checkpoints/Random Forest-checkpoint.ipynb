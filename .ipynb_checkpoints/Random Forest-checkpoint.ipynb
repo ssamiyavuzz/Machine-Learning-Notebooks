{
 "cells": [
  {
   "cell_type": "markdown",
   "id": "8361f1b9",
   "metadata": {},
   "source": [
    "# Random Forest"
   ]
  },
  {
   "cell_type": "markdown",
   "id": "716d991a",
   "metadata": {},
   "source": [
    "## Random Forest Nedir ?"
   ]
  },
  {
   "cell_type": "markdown",
   "id": "bb967195",
   "metadata": {},
   "source": [
    "- Random Forest, birden fazla karar ağacının bir araya gelerek oluşturduğu bir **ensemble learning yöntemidir**. Her bir karar ağacı, veri setinden rastgele seçilen alt kümeler üzerinde eğitilir ve her düğümde kullanılan feature'lar da rastgele seçilir. Bu işlem, modelin hem çeşitliliğini artırır hem de overfitting riskini azaltır. \n",
    "\n",
    "- Sonuçta, tüm ağaçların tahminleri bir araya getirilir ve nihai tahmin bu şekilde oluşturulur. Random Forest, hem classification hem de regresyon problemlerinde yüksek doğruluk sağlama potansiyeline sahiptir ve önemli feature'ları belirleme konusunda içgörüler sunar."
   ]
  },
  {
   "cell_type": "markdown",
   "id": "62e5e8d8",
   "metadata": {},
   "source": [
    "### Ensemble Methods"
   ]
  },
  {
   "cell_type": "markdown",
   "id": "7b49f4d0",
   "metadata": {},
   "source": [
    "- **Bagging (Bootstrap Aggregating):** Random Forest, bagging tekniğinin bir örneğidir. Bagging, birden fazla modeli (bu durumda karar ağaçlarını) paralel olarak eğitmeyi ve bu modellerin tahminlerini birleştirerek kararlar verir. Her model, orijinal veri setinden rastgele seçilmiş örneklerle (bootstrap örnekleri) eğitilir. Modelin tahminleri, çoğunluk oyu (sınıflandırma için) veya ortalama alma (regresyon için) yoluyla birleştirilir.\n",
    "\n",
    "- **Boosting:** Her yeni model, önceki modellerin hatalarını düzeltmeye odaklanır. Boosting yöntemlerinde, modeller arasında bir tür bağımlılık ve sıralama vardır; yani her model, bir öncekinin performansına dayanarak eğitilir."
   ]
  },
  {
   "cell_type": "code",
   "execution_count": null,
   "id": "4ec50c3e",
   "metadata": {},
   "outputs": [],
   "source": []
  },
  {
   "cell_type": "code",
   "execution_count": null,
   "id": "1475abfc",
   "metadata": {},
   "outputs": [],
   "source": []
  },
  {
   "cell_type": "code",
   "execution_count": null,
   "id": "219c300f",
   "metadata": {},
   "outputs": [],
   "source": []
  },
  {
   "cell_type": "code",
   "execution_count": null,
   "id": "41687b87",
   "metadata": {},
   "outputs": [],
   "source": []
  },
  {
   "cell_type": "code",
   "execution_count": null,
   "id": "6c771ebc",
   "metadata": {},
   "outputs": [],
   "source": []
  },
  {
   "cell_type": "code",
   "execution_count": null,
   "id": "3f91c654",
   "metadata": {},
   "outputs": [],
   "source": []
  }
 ],
 "metadata": {
  "kernelspec": {
   "display_name": "Python 3 (ipykernel)",
   "language": "python",
   "name": "python3"
  },
  "language_info": {
   "codemirror_mode": {
    "name": "ipython",
    "version": 3
   },
   "file_extension": ".py",
   "mimetype": "text/x-python",
   "name": "python",
   "nbconvert_exporter": "python",
   "pygments_lexer": "ipython3",
   "version": "3.11.5"
  }
 },
 "nbformat": 4,
 "nbformat_minor": 5
}
